{
 "cells": [
  {
   "cell_type": "markdown",
   "metadata": {},
   "source": [
    "# Table Extractor\n",
    "\n",
    "This script takes pdfs of tables and turns them into usable tables."
   ]
  },
  {
   "cell_type": "code",
   "execution_count": null,
   "metadata": {},
   "outputs": [],
   "source": [
    "from collections import OrderedDict\n",
    "from datetime import datetime\n",
    "import csv, sys, os, io\n",
    "\n",
    "import pyparsing as pp"
   ]
  },
  {
   "cell_type": "markdown",
   "metadata": {},
   "source": [
    "## Functions & Parser Definitions"
   ]
  },
  {
   "cell_type": "code",
   "execution_count": null,
   "metadata": {},
   "outputs": [],
   "source": [
    "def processXML(xml_name, out_name, row_description, header=\"\"):\n",
    "    table = pp.OneOrMore(pp.Group(row_description))\n",
    "    with io.open(xml_name, 'r', encoding='utf8') as xml_file, io.open(out_name, 'w') as out_file:\n",
    "        writer = csv.writer(out_file)\n",
    "        print(writer)\n",
    "        if header is not \"\":\n",
    "            print(header)\n",
    "            writer.writerow(header)\n",
    "        data = xml_file.read()\n",
    "        for result, start, end in table.scanString(data):\n",
    "            for row in result:\n",
    "                writer.writerow(row)"
   ]
  },
  {
   "cell_type": "code",
   "execution_count": null,
   "metadata": {},
   "outputs": [],
   "source": [
    "decimals = pp.Combine(\n",
    "    pp.Word(pp.nums, max=3)\n",
    "    + pp.ZeroOrMore(pp.Suppress(\",\") + pp.Word(pp.nums, max=3))\n",
    "    + pp.ZeroOrMore(\".\" + pp.Word(pp.nums))\n",
    ")\n",
    "pct = pp.Combine(pp.Optional(\"-\") + decimals + pp.Suppress(\"%\"))\n",
    "dollar = pp.Suppress(\"$\") + decimals\n",
    "date = pp.Combine(\n",
    "    pp.Word(pp.nums, max=2)\n",
    "    + \"/\"\n",
    "    + pp.Word(pp.nums, max=2)\n",
    "    + \"/\"\n",
    "    + pp.Word(pp.nums, max=4)\n",
    ")\n",
    "cgr = pp.Word(pp.alphanums, exact=3)\n",
    "territory = pp.Word(pp.nums, min=3, max=4)\n",
    "zipcode = pp.Word(pp.nums, max=5)\n",
    "gender = pp.Word(\"MF\")\n",
    "ypc = pp.Combine(pp.Word(pp.nums, exact=1) + pp.Suppress(pp.Optional(\"+\")))"
   ]
  },
  {
   "cell_type": "markdown",
   "metadata": {},
   "source": [
    "## Pre-processing\n",
    "First, we'll use [tika](https://brewinstall.org/Install-tika-on-Mac-with-Brew/) to convert the pdf files into xml files so we can actually parse things."
   ]
  },
  {
   "cell_type": "code",
   "execution_count": null,
   "metadata": {},
   "outputs": [],
   "source": [
    "if not os.path.exists('../data/xml'):\n",
    "    os.makedirs('../data/xml')"
   ]
  },
  {
   "cell_type": "markdown",
   "metadata": {},
   "source": [
    "The below command works for a `brew`-installed version of `tika` on OS X. This command may vary depending on your version of `tika`'s installation and path."
   ]
  },
  {
   "cell_type": "code",
   "execution_count": null,
   "metadata": {
    "scrolled": false
   },
   "outputs": [],
   "source": [
    "!tika -i ../data/pdf -o ../data/xml; cd ../data/xml; find . -type f -name '*.xml' -print0 | xargs -0 rename 's/\\.pdf.xml/\\.xml/'"
   ]
  },
  {
   "cell_type": "markdown",
   "metadata": {},
   "source": [
    "## Tables"
   ]
  },
  {
   "cell_type": "markdown",
   "metadata": {},
   "source": [
    "### CGR Definitions Table"
   ]
  },
  {
   "cell_type": "code",
   "execution_count": null,
   "metadata": {},
   "outputs": [],
   "source": [
    "header = ['cgr', 'aa', 'bb' , 'cc', 'va', 'dd', 'hh', 'ss']\n",
    "description = cgr + (decimals * 7)\n",
    "fn = \"cgr-definitions-table\"\n",
    "processXML(\"../data/xml/\" + fn + \".xml\", \"../data/csv/\" + fn + \".csv\", description, header=header)"
   ]
  },
  {
   "cell_type": "markdown",
   "metadata": {},
   "source": [
    "### CGR Premiums Table"
   ]
  },
  {
   "cell_type": "code",
   "execution_count": null,
   "metadata": {},
   "outputs": [],
   "source": [
    "header = ['territory','gender','birthdate','ypc','current_premium','indicated_premium','selected_premium','underlying_premium','fixed_expenses','underlying_total_premium','cgr_factor','cgr']\n",
    "premiums = pp.Combine(\n",
    "    pp.Word(pp.nums)\n",
    "    + pp.ZeroOrMore(\".\" + pp.Word(pp.nums))\n",
    ")\n",
    "description = territory + gender + date + ypc + (premiums * 6) + decimals + cgr\n",
    "fn = \"cgr-premiums-table\"\n",
    "processXML(\"../data/xml/\" + fn + \".xml\", \"../data/csv/\" + fn + \".csv\", description, header=header)"
   ]
  },
  {
   "cell_type": "markdown",
   "metadata": {},
   "source": [
    "### Territory Definitions Table"
   ]
  },
  {
   "cell_type": "code",
   "execution_count": null,
   "metadata": {},
   "outputs": [],
   "source": [
    "header = ['county','county_code','territory','zipcode','town', 'area']\n",
    "numbers = pp.Word(pp.nums)\n",
    "text = pp.Combine(\n",
    "        pp.Word(pp.alphas.upper()) \n",
    "        + pp.ZeroOrMore(\" \" + pp.Word(pp.alphas.upper()))\n",
    "    )\n",
    "description = text + numbers + territory + zipcode + text + numbers\n",
    "fn = \"territory-definitions-table\"\n",
    "processXML(\"../data/xml/\" + fn + \".xml\", \"../data/csv/\" + fn + \".csv\", description, header=header)"
   ]
  },
  {
   "cell_type": "code",
   "execution_count": null,
   "metadata": {},
   "outputs": [],
   "source": []
  }
 ],
 "metadata": {
  "kernelspec": {
   "display_name": "Python 3",
   "language": "python",
   "name": "python3"
  },
  "language_info": {
   "codemirror_mode": {
    "name": "ipython",
    "version": 3
   },
   "file_extension": ".py",
   "mimetype": "text/x-python",
   "name": "python",
   "nbconvert_exporter": "python",
   "pygments_lexer": "ipython3",
   "version": "3.7.3"
  }
 },
 "nbformat": 4,
 "nbformat_minor": 2
}
